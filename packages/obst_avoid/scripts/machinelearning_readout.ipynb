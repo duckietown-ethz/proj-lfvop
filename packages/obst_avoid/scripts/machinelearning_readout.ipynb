{
 "cells": [
  {
   "cell_type": "code",
   "execution_count": 5,
   "metadata": {
    "scrolled": true
   },
   "outputs": [
    {
     "name": "stdout",
     "output_type": "stream",
     "text": [
      "FINISHED!\n"
     ]
    }
   ],
   "source": [
    "import cv2\n",
    "import numpy as np\n",
    "import csv\n",
    "from matplotlib import pyplot as plt\n",
    "import time\n",
    "import os\n",
    "#SCRIPT TO READ OUT AND GENERATE PICTURES FROM A CSV FILE GIVEN BY THEHIVE.AI\n",
    "filename_general = '../../savior_bags/'\n",
    "\n",
    "with open('learning.csv') as csvfile: #open the .csv file obtained by thehive.ai\n",
    "    reader = csv.DictReader(csvfile)\n",
    "    for row in reader:\n",
    "        final_filename=filename_general+row['original_filename']\n",
    "        #reads out the path given in the .csv file\n",
    "        #creates a folder labelled_hive in the place where the image came from\n",
    "        out_folder=\"labbelled_hive\"\n",
    "        final_savefile_dir=filename_general+row['original_filename'].split('/')[0]+\"/\"+out_folder\n",
    "        final_savefile = filename_general+row['original_filename'].split('/')[0]+\"/\"+out_folder+\"/\"+row['original_filename'].split('/')[1]\n",
    "        #specifies the correct location where the image should be saved to!!!\n",
    "        im1 = cv2.imread(final_filename) #reads BGR\n",
    "        \n",
    "        a=row['status'].split('\"x\":')\n",
    "        length=np.size(a) #if a=3 -> 1 Box, a=5 -> 2 boxes,....\n",
    "        i=1\n",
    "        \n",
    "        while (True):\n",
    "            if (i==length):\n",
    "                #plt.imshow(im1[:,:,::-1]); plt.show() #to show or save directly\n",
    "                if not os.path.exists(final_savefile_dir): #if directory did not exist -> create it\n",
    "                    os.makedirs(final_savefile_dir)\n",
    "                cv2.imwrite(final_savefile, im1)\n",
    "                time.sleep(0.1) #suspend thread for short!!\n",
    "                i=1\n",
    "                break\n",
    "            else:\n",
    "                shape = np.shape(im1)\n",
    "                y=a[i].split(',\"y\":')\n",
    "                x_val1 = float(y[0]) #x-value!!!!\n",
    "                y_val1 = float(y[1].split('}')[0]) #y-value!!!\n",
    "                i=i+1\n",
    "                y=a[i].split(',\"y\":')\n",
    "                x_val2 = float(y[0]) #x-value!!!!\n",
    "                y_val2 = float(y[1].split('}')[0]) #y-value!!!\n",
    "                cv2.rectangle(im1,(int(x_val1*shape[1]),int(y_val1*shape[0])),(int(shape[1]*x_val2),int(shape[0]*y_val2)),(0,0,255),3)\n",
    "                i=i+1\n",
    "print \"FINISHED!\"\n",
    "\n",
    "\n"
   ]
  }
 ],
 "metadata": {
  "kernelspec": {
   "display_name": "Python 2",
   "language": "python",
   "name": "python2"
  },
  "language_info": {
   "codemirror_mode": {
    "name": "ipython",
    "version": 2
   },
   "file_extension": ".py",
   "mimetype": "text/x-python",
   "name": "python",
   "nbconvert_exporter": "python",
   "pygments_lexer": "ipython2",
   "version": "2.7.12"
  }
 },
 "nbformat": 4,
 "nbformat_minor": 2
}
